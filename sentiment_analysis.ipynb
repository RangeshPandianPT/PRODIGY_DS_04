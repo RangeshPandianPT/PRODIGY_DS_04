{
 "cells": [
  {
   "cell_type": "code",
   "execution_count": null,
   "id": "c7c59e4d",
   "metadata": {},
   "outputs": [],
   "source": [
    "import pandas as pd\n",
    "import matplotlib.pyplot as plt\n",
    "import seaborn as sns"
   ]
  },
  {
   "cell_type": "code",
   "execution_count": null,
   "id": "c2ad341f",
   "metadata": {},
   "outputs": [],
   "source": [
    "# Load data\n",
    "training_df = pd.read_csv('twitter_training_cleaned.csv')"
   ]
  },
  {
   "cell_type": "code",
   "execution_count": null,
   "id": "1850f660",
   "metadata": {},
   "outputs": [],
   "source": [
    "# Plot sentiment distribution\n",
    "sns.set(style=\"whitegrid\")\n",
    "plt.figure(figsize=(10, 5))\n",
    "sns.countplot(data=training_df, x='sentiment', order=training_df['sentiment'].value_counts().index, palette='viridis')\n",
    "plt.title(\"Overall Sentiment Distribution (Training Data)\", fontsize=14)\n",
    "plt.xlabel(\"Sentiment\")\n",
    "plt.ylabel(\"Tweet Count\")\n",
    "plt.xticks(rotation=0)\n",
    "plt.tight_layout()\n",
    "plt.savefig(\"sentiment_distribution_overall.png\")\n",
    "plt.show()"
   ]
  }
 ],
 "metadata": {},
 "nbformat": 4,
 "nbformat_minor": 5
}
